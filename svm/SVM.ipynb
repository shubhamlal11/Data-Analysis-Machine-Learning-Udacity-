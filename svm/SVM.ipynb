{
 "cells": [
  {
   "cell_type": "code",
   "execution_count": 2,
   "metadata": {
    "collapsed": false
   },
   "outputs": [
    {
     "name": "stdout",
     "output_type": "stream",
     "text": [
      "no. of Chris training emails: 7936\n",
      "no. of Sara training emails: 7884\n",
      "Training time: 202.328999996 s\n",
      "Prediction time: 21.8150000572 s\n",
      "0.984072810011\n"
     ]
    }
   ],
   "source": [
    "#!/usr/bin/python\n",
    "\n",
    "\"\"\" \n",
    "    This is the code to accompany the Lesson 2 (SVM) mini-project.\n",
    "\n",
    "    Use a SVM to identify emails from the Enron corpus by their authors:    \n",
    "    Sara has label 0\n",
    "    Chris has label 1\n",
    "\"\"\"\n",
    "    \n",
    "import sys\n",
    "from time import time\n",
    "sys.path.append(\"../tools/\")\n",
    "from email_preprocess import preprocess\n",
    "\n",
    "\n",
    "### features_train and features_test are the features for the training\n",
    "### and testing datasets, respectively\n",
    "### labels_train and labels_test are the corresponding item labels\n",
    "features_train, features_test, labels_train, labels_test = preprocess()\n",
    "\n",
    "\n",
    "\n",
    "\n",
    "#########################################################\n",
    "### your code goes here ###\n",
    "\n",
    "#########################################################\n",
    "from sklearn import svm\n",
    "clf = svm.SVC(kernel = 'linear')\n",
    "\n",
    "t0 = time()\n",
    "clf.fit(features_train, labels_train)\n",
    "print \"Training time:\",time()-t0,\"s\"\n",
    "\n",
    "t0 = time()\n",
    "pred = clf.predict(features_test)\n",
    "print \"Prediction time:\",time()-t0,\"s\"\n",
    "\n",
    "from sklearn.metrics import accuracy_score\n",
    "print accuracy_score(pred, labels_test)\n",
    "\n"
   ]
  },
  {
   "cell_type": "code",
   "execution_count": 3,
   "metadata": {
    "collapsed": false
   },
   "outputs": [
    {
     "name": "stdout",
     "output_type": "stream",
     "text": [
      "Training time: 0.121999979019 s\n",
      "Prediction time: 1.26800012589 s\n",
      "0.884527872582\n"
     ]
    }
   ],
   "source": [
    "features_train = features_train[:len(features_train)/100] \n",
    "labels_train = labels_train[:len(labels_train)/100] \n",
    "\n",
    "t0 = time()\n",
    "clf.fit(features_train, labels_train)\n",
    "print \"Training time:\",time()-t0,\"s\"\n",
    "\n",
    "t0 = time()\n",
    "pred = clf.predict(features_test)\n",
    "print \"Prediction time:\",time()-t0,\"s\"\n",
    "\n",
    "print accuracy_score(pred, labels_test)"
   ]
  },
  {
   "cell_type": "code",
   "execution_count": 4,
   "metadata": {
    "collapsed": false
   },
   "outputs": [
    {
     "name": "stdout",
     "output_type": "stream",
     "text": [
      "Training time: 0.134000062943 s\n",
      "Prediction time: 1.29099988937 s\n",
      "0.616040955631\n"
     ]
    }
   ],
   "source": [
    "clf = svm.SVC(kernel = 'rbf')\n",
    "\n",
    "t0 = time()\n",
    "clf.fit(features_train, labels_train)\n",
    "print \"Training time:\",time()-t0,\"s\"\n",
    "\n",
    "t0 = time()\n",
    "pred = clf.predict(features_test)\n",
    "print \"Prediction time:\",time()-t0,\"s\"\n",
    "\n",
    "print accuracy_score(pred, labels_test)"
   ]
  },
  {
   "cell_type": "code",
   "execution_count": 10,
   "metadata": {
    "collapsed": false
   },
   "outputs": [
    {
     "name": "stdout",
     "output_type": "stream",
     "text": [
      "Training time: 0.113999843597 s\n",
      "Prediction time: 1.06599998474 s\n",
      "0.892491467577\n"
     ]
    }
   ],
   "source": [
    "clf = svm.SVC(kernel = 'rbf', C = 10000)\n",
    "\n",
    "t0 = time()\n",
    "clf.fit(features_train, labels_train)\n",
    "print \"Training time:\",time()-t0,\"s\"\n",
    "\n",
    "t0 = time()\n",
    "pred = clf.predict(features_test)\n",
    "print \"Prediction time:\",time()-t0,\"s\"\n",
    "\n",
    "print accuracy_score(pred, labels_test)"
   ]
  },
  {
   "cell_type": "code",
   "execution_count": 2,
   "metadata": {
    "collapsed": false
   },
   "outputs": [
    {
     "name": "stdout",
     "output_type": "stream",
     "text": [
      "no. of Chris training emails: 7936\n",
      "no. of Sara training emails: 7884\n",
      "Training time: 600.996999979 s\n",
      "Prediction time: 73.8090000153 s\n",
      "0.955062571104\n"
     ]
    }
   ],
   "source": [
    "import sys\n",
    "from time import time\n",
    "sys.path.append(\"../tools/\")\n",
    "from email_preprocess import preprocess\n",
    "\n",
    "features_train, features_test, labels_train, labels_test = preprocess()\n",
    "\n",
    "from sklearn import svm\n",
    "clf = svm.SVC(kernel = 'rbf', C = 100)\n",
    "\n",
    "t0 = time()\n",
    "clf.fit(features_train, labels_train)\n",
    "print \"Training time:\",time()-t0,\"s\"\n",
    "\n",
    "t0 = time()\n",
    "pred = clf.predict(features_test)\n",
    "print \"Prediction time:\",time()-t0,\"s\"\n",
    "\n",
    "from sklearn.metrics import accuracy_score\n",
    "print accuracy_score(pred, labels_test)\n",
    "\n"
   ]
  },
  {
   "cell_type": "code",
   "execution_count": 3,
   "metadata": {
    "collapsed": false
   },
   "outputs": [
    {
     "name": "stdout",
     "output_type": "stream",
     "text": [
      "no. of Chris training emails: 7936\n",
      "no. of Sara training emails: 7884\n",
      "Training time: 138.674000025 s\n",
      "Prediction time: 14.6360001564 s\n",
      "0.990898748578\n"
     ]
    }
   ],
   "source": [
    "import sys\n",
    "from time import time\n",
    "sys.path.append(\"../tools/\")\n",
    "from email_preprocess import preprocess\n",
    "\n",
    "features_train, features_test, labels_train, labels_test = preprocess()\n",
    "\n",
    "from sklearn import svm\n",
    "clf = svm.SVC(kernel = 'rbf', C = 10000)\n",
    "\n",
    "t0 = time()\n",
    "clf.fit(features_train, labels_train)\n",
    "print \"Training time:\",time()-t0,\"s\"\n",
    "\n",
    "t0 = time()\n",
    "pred = clf.predict(features_test)\n",
    "print \"Prediction time:\",time()-t0,\"s\"\n",
    "\n",
    "from sklearn.metrics import accuracy_score\n",
    "print accuracy_score(pred, labels_test)\n",
    "\n"
   ]
  },
  {
   "cell_type": "code",
   "execution_count": 4,
   "metadata": {
    "collapsed": false
   },
   "outputs": [
    {
     "name": "stdout",
     "output_type": "stream",
     "text": [
      "1\n",
      "0\n",
      "1\n"
     ]
    }
   ],
   "source": [
    "print pred[10]\n",
    "print pred[26]\n",
    "print pred[50]"
   ]
  },
  {
   "cell_type": "code",
   "execution_count": 5,
   "metadata": {
    "collapsed": false
   },
   "outputs": [
    {
     "name": "stdout",
     "output_type": "stream",
     "text": [
      "877\n"
     ]
    }
   ],
   "source": [
    "cnt = 0\n",
    "for i in range(len(pred)):\n",
    "    if pred[i] == 1:\n",
    "        cnt+=1\n",
    "print cnt"
   ]
  }
 ],
 "metadata": {
  "kernelspec": {
   "display_name": "Python 2",
   "language": "python",
   "name": "python2"
  },
  "language_info": {
   "codemirror_mode": {
    "name": "ipython",
    "version": 2
   },
   "file_extension": ".py",
   "mimetype": "text/x-python",
   "name": "python",
   "nbconvert_exporter": "python",
   "pygments_lexer": "ipython2",
   "version": "2.7.12"
  }
 },
 "nbformat": 4,
 "nbformat_minor": 0
}
