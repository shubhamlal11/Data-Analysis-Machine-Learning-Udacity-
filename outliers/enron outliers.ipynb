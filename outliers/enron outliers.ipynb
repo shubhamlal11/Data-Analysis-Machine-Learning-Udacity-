{
 "cells": [
  {
   "cell_type": "code",
   "execution_count": 3,
   "metadata": {
    "collapsed": false
   },
   "outputs": [
    {
     "name": "stdout",
     "output_type": "stream",
     "text": [
      "LAY KENNETH L 1072321 7000000\n",
      "SKILLING JEFFREY K 1111258 5600000\n"
     ]
    }
   ],
   "source": [
    "#!/usr/bin/python\n",
    "\n",
    "import pickle\n",
    "import sys\n",
    "import matplotlib.pyplot\n",
    "sys.path.append(\"../tools/\")\n",
    "from feature_format import featureFormat, targetFeatureSplit\n",
    "\n",
    "### read in data dictionary, convert to numpy array\n",
    "data_dict = pickle.load( open(\"../final_project/final_project_dataset.pkl\", \"r\") )\n",
    "\n",
    "for key in data_dict.keys():\n",
    "    if key == \"TOTAL\" or key == \"Total\" or key == \"total\":\n",
    "        data_dict.pop(key)\n",
    "        break\n",
    "        \n",
    "for key in data_dict.keys():\n",
    "    if data_dict[key]['salary'] > 1000000 and data_dict[key]['salary'] != \"NaN\":\n",
    "        if data_dict[key]['bonus'] > 5000000 and data_dict[key]['bonus'] != \"NaN\":\n",
    "            print key, data_dict[key]['salary'], data_dict[key]['bonus']\n",
    "        \n",
    "features = [\"salary\", \"bonus\"]\n",
    "data = featureFormat(data_dict, features)\n",
    "\n",
    "\n",
    "for point in data:\n",
    "    salary = point[0]\n",
    "    bonus = point[1]\n",
    "    matplotlib.pyplot.scatter(salary, bonus)\n",
    "    \n",
    "matplotlib.pyplot.xlabel(\"Salary\")\n",
    "matplotlib.pyplot.ylabel(\"Bonus\")\n",
    "matplotlib.pyplot.show()\n",
    "### your code below\n",
    "\n",
    "\n",
    "\n"
   ]
  }
 ],
 "metadata": {
  "kernelspec": {
   "display_name": "Python 2",
   "language": "python",
   "name": "python2"
  },
  "language_info": {
   "codemirror_mode": {
    "name": "ipython",
    "version": 2
   },
   "file_extension": ".py",
   "mimetype": "text/x-python",
   "name": "python",
   "nbconvert_exporter": "python",
   "pygments_lexer": "ipython2",
   "version": "2.7.12"
  }
 },
 "nbformat": 4,
 "nbformat_minor": 0
}
